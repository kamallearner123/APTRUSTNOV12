{
 "cells": [
  {
   "cell_type": "code",
   "execution_count": null,
   "id": "a936d2b3-da22-48d8-ab13-137d49e1cd69",
   "metadata": {},
   "outputs": [],
   "source": [
    "l1=[1,2,3,4,5,6,10,2,1,1,1,1,100,22,22,-1,-5]\n",
    "n=5\n",
    "frequency ={}\n",
    "for count in l1:\n",
    "    if count in frequency :\n",
    "        frequency [count]+=n\n",
    "    else:\n",
    "        frequency [count]= n\n",
    "print(frequency )\n"
   ]
  },
  {
   "cell_type": "code",
   "execution_count": 4,
   "id": "32e413eb-6c88-482c-bf4b-35a6aae7656a",
   "metadata": {},
   "outputs": [
    {
     "name": "stdout",
     "output_type": "stream",
     "text": [
      "{'tdp': 3, 'ycp': 1, 'congress': 2, 'brs': 1, 'js': 4}\n",
      "js\n"
     ]
    }
   ],
   "source": [
    "elections = [\"tdp\", \"ycp\", \"congress\", \"brs\", \"js\", \"js\", \"tdp\", \"congress\", \"tdp\",  \"js\",  \"js\"]\n",
    "\n",
    "result = {} #Empty dictionary\n",
    "\n",
    "for vote in elections:\n",
    "    if vote in result:\n",
    "        result[vote] = result[vote] + 1\n",
    "    else:\n",
    "        result[vote] = 1\n",
    "\n",
    "print(result)\n",
    "\n",
    "# Declare the winner\n",
    "winner = \"\"\n",
    "max_votes = 0\n",
    "for key,val in result.items(): #tcp , 3\n",
    "    if val > max_votes:\n",
    "        winner = key # tdp -> js\n",
    "        max_votes = val # 3 -> 4\n",
    "\n",
    "print(winner)\n"
   ]
  },
  {
   "cell_type": "code",
   "execution_count": null,
   "id": "4a2a7e17-bf4b-4757-a766-6b1cd3fa6bf8",
   "metadata": {},
   "outputs": [],
   "source": [
    "'''\n",
    "Numbers and Operators \n",
    "Comments\n",
    "Variables of different types \n",
    "Input and output # input(), print()\n",
    "Loops # for and while\n",
    "Conditions \n",
    "Functions \n",
    "Variable scopes\n",
    "'''\n"
   ]
  },
  {
   "cell_type": "code",
   "execution_count": 11,
   "id": "1b44c44b-33d3-417d-bcf4-31a0265a4c04",
   "metadata": {},
   "outputs": [
    {
     "name": "stdout",
     "output_type": "stream",
     "text": [
      "100\n",
      "0xaabb\n",
      "0b1100\n",
      "(2+4j)\n"
     ]
    }
   ],
   "source": [
    "# NUMBERS\n",
    "num1 = 100\n",
    "num2 = 0xAABB # Hexa\n",
    "num3 = 0b1100 # Binary\n",
    "num4 = 1+3j # Complex number\n",
    "num5 = 1+1j\n",
    "\n",
    "print(num1)\n",
    "print(hex(num2))\n",
    "print(bin(num3))\n",
    "print(num4 + num5)\n"
   ]
  },
  {
   "cell_type": "code",
   "execution_count": 15,
   "id": "b18d5b8c-c3aa-4d2b-8249-574be1509aaa",
   "metadata": {},
   "outputs": [
    {
     "name": "stdout",
     "output_type": "stream",
     "text": [
      "100\n"
     ]
    }
   ],
   "source": [
    "# COMMENTS\n",
    "num1 = 100\n",
    "'''\n",
    "num2 = 0xAABB # Hexa\n",
    "num3 = 0b1100 # Binary\n",
    "num4 = 1+3j # Complex number\n",
    "num5 = 1+1j\n",
    "\n",
    "print(num1)\n",
    "print(hex(num2))\n",
    "print(bin(num3))\n",
    "print(num4 + num5)\n",
    "'''\n",
    "\n",
    "#print(num1)\n",
    "print(num1)"
   ]
  },
  {
   "cell_type": "code",
   "execution_count": 19,
   "id": "cdb96961-f3a6-42c5-bc06-943eba58372f",
   "metadata": {},
   "outputs": [
    {
     "name": "stdout",
     "output_type": "stream",
     "text": [
      "{'B', 'E', 'D', 'A', 'C'}\n",
      "{'C'}\n",
      "{'E', 'D'}\n"
     ]
    }
   ],
   "source": [
    "# VARIABLES OF DIFFERENT TYPES\n",
    "# Prmitive data types: int, float, bool, None, complex\n",
    "Rank = 2\n",
    "Percentage = 90.2\n",
    "result = True # Boolean\n",
    "status = None\n",
    "\n",
    "\n",
    "# Non-premitive data types: string, lists, tuples, set, dictioanries\n",
    "name = \"David\"\n",
    "\n",
    "# Lists: Mutable\n",
    "votes = [\"tdp\", \"ycp\"]\n",
    "votes.append(\"tdp\")\n",
    "\n",
    "# Fixed : Immutable\n",
    "parties = (\"tdp\", \"ycp\")\n",
    "\n",
    "# Set: Unique elements\n",
    "#directors = set([\"A\", \"B\", \"C\"])\n",
    "directors = set([\"A\", \"B\", \"C\"])\n",
    "heroes = set([\"C\",\"D\", \"E\"])\n",
    "crew = directors | heroes #Union of Direct and heroes\n",
    "print(crew)\n",
    "\n",
    "hero_and_director = directors & heroes # Intersection of Direct and heroes\n",
    "print(hero_and_director)\n",
    "\n",
    "only_heroes = heroes - directors\n",
    "print(only_heroes)\n"
   ]
  },
  {
   "cell_type": "code",
   "execution_count": 20,
   "id": "c3f1f57a-2c47-482e-a4ac-a96febb4c05e",
   "metadata": {},
   "outputs": [
    {
     "name": "stdout",
     "output_type": "stream",
     "text": [
      "3628800\n"
     ]
    }
   ],
   "source": [
    "# While\n",
    "num = 10\n",
    "fact = 1\n",
    "\n",
    "while num > 0:# CONDITION\n",
    "    fact = fact * num\n",
    "    num = num - 1 #10,9,...0\n",
    "print(fact)\n"
   ]
  },
  {
   "cell_type": "code",
   "execution_count": 21,
   "id": "218b8fce-e679-4a94-90ce-2c1839e0dafe",
   "metadata": {},
   "outputs": [
    {
     "name": "stdout",
     "output_type": "stream",
     "text": [
      "1\n",
      "2\n",
      "3\n",
      "5\n",
      "8\n",
      "13\n",
      "21\n",
      "34\n",
      "55\n",
      "89\n"
     ]
    }
   ],
   "source": [
    "# While: Fibnocci\n",
    "# 0, 1, 1, 2, 3, 5, 8\n",
    "\n",
    "num = 10\n",
    "\n",
    "prev = 0\n",
    "curr = 1\n",
    "\n",
    "while num > 0:\n",
    "    print(prev+curr)\n",
    "    prev, curr = curr, prev+curr\n",
    "    num = num - 1"
   ]
  },
  {
   "cell_type": "code",
   "execution_count": 25,
   "id": "93165370-9964-4042-9443-040a15b4eaf9",
   "metadata": {},
   "outputs": [
    {
     "name": "stdout",
     "output_type": "stream",
     "text": [
      "[2, 4, 5, 10, 2, 4]\n",
      "List after inserting 1 at position 3 : [2, 4, 5, 1, 10, 2, 4]\n",
      "List after appending 2 :  [2, 4, 5, 1, 10, 2, 4, 2]\n",
      "List after removing 10 : [2, 4, 5, 1, 2, 4, 2]\n",
      "List after calling sort(): [1, 2, 2, 2, 4, 4, 5]\n"
     ]
    }
   ],
   "source": [
    "# lists\n",
    "l1 = [2,4,5,10,2]\n",
    "# Append 4\n",
    "l1.append(4)\n",
    "print(l1)\n",
    "\n",
    "# Insert 3, 1\n",
    "l1.insert(3,1)\n",
    "print(\"List after inserting 1 at position 3 :\",l1)\n",
    "\n",
    "\n",
    "# Append 2\n",
    "l1.append(2)\n",
    "print(\"List after appending 2 : \", l1)\n",
    "\n",
    "# remove 10\n",
    "l1.remove(10)\n",
    "print(\"List after removing 10 :\", l1)\n",
    "\n",
    "# sort\n",
    "l1.sort()\n",
    "print(\"List after calling sort():\", l1)\n"
   ]
  },
  {
   "cell_type": "code",
   "execution_count": 26,
   "id": "b63e4b4e-307b-4f8d-be5a-699ae7d87526",
   "metadata": {},
   "outputs": [
    {
     "name": "stdout",
     "output_type": "stream",
     "text": [
      "/Users/kamalmukiri/Documents/1.GitHub/Courses/APTRUSTNOV12/APTRUSTNOV12/Beginners\n"
     ]
    }
   ],
   "source": [
    "import os\n",
    "print(os.getcwd())"
   ]
  },
  {
   "cell_type": "code",
   "execution_count": null,
   "id": "d272fe19-dccb-46bf-85a0-138b7798029a",
   "metadata": {},
   "outputs": [],
   "source": [
    "\n"
   ]
  },
  {
   "cell_type": "code",
   "execution_count": null,
   "id": "1ae74844-a2e1-4978-a736-2c1d73bc287a",
   "metadata": {},
   "outputs": [],
   "source": []
  }
 ],
 "metadata": {
  "kernelspec": {
   "display_name": "Python (playground)",
   "language": "python",
   "name": "myenv"
  },
  "language_info": {
   "codemirror_mode": {
    "name": "ipython",
    "version": 3
   },
   "file_extension": ".py",
   "mimetype": "text/x-python",
   "name": "python",
   "nbconvert_exporter": "python",
   "pygments_lexer": "ipython3",
   "version": "3.12.7"
  }
 },
 "nbformat": 4,
 "nbformat_minor": 5
}
