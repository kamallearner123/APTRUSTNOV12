{
 "cells": [
  {
   "cell_type": "code",
   "execution_count": null,
   "id": "8a34461c-23f4-48bc-8728-4d43c49778e5",
   "metadata": {},
   "outputs": [],
   "source": [
    "import os\n",
    "from datetime import datetime\n",
    "\n",
    "def list_files_by_date(base_path, output_file):\n",
    "    # Dictionary to store created and modified files by date\n",
    "    files_by_date = {}\n",
    "\n",
    "    # Traverse all directories and files\n",
    "    for root, dirs, files in os.walk(base_path):\n",
    "        for file in files:\n",
    "            file_path = os.path.join(root, file)\n",
    "            try:\n",
    "                # Get file creation and modification time\n",
    "                creation_time = os.path.getctime(file_path)\n",
    "                modification_time = os.path.getmtime(file_path)\n",
    "\n",
    "                # Format dates\n",
    "                creation_date = datetime.fromtimestamp(creation_time).strftime('%Y-%m-%d')\n",
    "                modification_date = datetime.fromtimestamp(modification_time).strftime('%Y-%m-%d')\n",
    "\n",
    "                # Add to the dictionary\n",
    "                if creation_date not in files_by_date:\n",
    "                    files_by_date[creation_date] = {'created': [], 'modified': []}\n",
    "                if modification_date not in files_by_date:\n",
    "                    files_by_date[modification_date] = {'created': [], 'modified': []}\n",
    "\n",
    "                files_by_date[creation_date]['created'].append(file_path)\n",
    "                files_by_date[modification_date]['modified'].append(file_path)\n",
    "            except Exception as e:\n",
    "                print(f\"Error processing file {file_path}: {e}\")\n",
    "\n",
    "    # Write to the output file\n",
    "    with open(output_file, 'w') as f:\n",
    "        for date, files in sorted(files_by_date.items()):\n",
    "            f.write(f\"Date: {date}\\n\")\n",
    "            f.write(\"  Created Files:\\n\")\n",
    "            for created_file in files['created']:\n",
    "                f.write(f\"    {created_file}\\n\")\n",
    "            f.write(\"  Modified Files:\\n\")\n",
    "            for modified_file in files['modified']:\n",
    "                f.write(f\"    {modified_file}\\n\")\n",
    "            f.write(\"\\n\")\n",
    "    print(f\"File listing saved to {output_file}\")\n",
    "\n",
    "# Example usage\n",
    "base_path = \"/Users/kamalmukiri/Documents/1.GitHub/Courses/APTRUSTNOV12/APTRUSTNOV12\"  # Change to your directory path\n",
    "output_file = \"file_list_by_date.txt\"  # Output text file\n",
    "list_files_by_date(base_path, output_file)"
   ]
  }
 ],
 "metadata": {
  "kernelspec": {
   "display_name": "Python 3 (ipykernel)",
   "language": "python",
   "name": "python3"
  },
  "language_info": {
   "codemirror_mode": {
    "name": "ipython",
    "version": 3
   },
   "file_extension": ".py",
   "mimetype": "text/x-python",
   "name": "python",
   "nbconvert_exporter": "python",
   "pygments_lexer": "ipython3",
   "version": "3.12.7"
  }
 },
 "nbformat": 4,
 "nbformat_minor": 5
}
