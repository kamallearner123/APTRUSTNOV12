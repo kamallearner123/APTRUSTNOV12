{
 "cells": [
  {
   "cell_type": "code",
   "execution_count": 6,
   "id": "53eca788-0a56-46c2-99ac-aa8aefca2720",
   "metadata": {},
   "outputs": [
    {
     "name": "stdout",
     "output_type": "stream",
     "text": [
      "Yes, it is\n"
     ]
    }
   ],
   "source": [
    "num = 1237\n",
    "\n",
    "for i in range(2, num//2):\n",
    "    if num%i == 0:\n",
    "        print(\"No, it is not prime umber!!!\", i)\n",
    "print(\"Yes, it is\")"
   ]
  },
  {
   "cell_type": "code",
   "execution_count": null,
   "id": "1c6b0cf0-8b85-4b1b-a696-1ede60b3ec9f",
   "metadata": {},
   "outputs": [],
   "source": []
  }
 ],
 "metadata": {
  "kernelspec": {
   "display_name": "Python 3 (ipykernel)",
   "language": "python",
   "name": "python3"
  },
  "language_info": {
   "codemirror_mode": {
    "name": "ipython",
    "version": 3
   },
   "file_extension": ".py",
   "mimetype": "text/x-python",
   "name": "python",
   "nbconvert_exporter": "python",
   "pygments_lexer": "ipython3",
   "version": "3.12.7"
  }
 },
 "nbformat": 4,
 "nbformat_minor": 5
}
